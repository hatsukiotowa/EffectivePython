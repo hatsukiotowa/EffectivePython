{
 "cells": [
  {
   "cell_type": "markdown",
   "metadata": {},
   "source": [
    "# Item23: Accept Functions for Simple Interfaces Instead of Classes "
   ]
  },
  {
   "cell_type": "markdown",
   "metadata": {},
   "source": [
    "### 1.Make a breif review of passing functions as parameters"
   ]
  },
  {
   "cell_type": "code",
   "execution_count": 54,
   "metadata": {},
   "outputs": [
    {
     "name": "stdout",
     "output_type": "stream",
     "text": [
      "['Plato', 'Socrates', 'Aristotle', 'Archimedes']\n"
     ]
    }
   ],
   "source": [
    "names = ['Socrates', 'Archimedes', 'Plato', 'Aristotle']\n",
    "names.sort(key=lambda x: len(x))\n",
    "print(names)"
   ]
  },
  {
   "cell_type": "markdown",
   "metadata": {},
   "source": [
    "### We pass a function as a parameter here, because \n",
    "\n",
    "### -> function is easier to describe and simpler to define than a class\n",
    "\n",
    "###   "
   ]
  },
  {
   "cell_type": "markdown",
   "metadata": {},
   "source": [
    "# <<< Before we start to read item23, let's review DEFAULTDICT >>>"
   ]
  },
  {
   "cell_type": "markdown",
   "metadata": {},
   "source": [
    "###    \n",
    "###     \n",
    "\n",
    "### 2. Make a brief review of defaultdict(Item 46)\n",
    "\n",
    "-> 文字通り、デフォルトの値を設定できる辞書型。\n",
    "\n",
    "-> KeyErrrorの発生しない世界を作るwww\n",
    "\n",
    "公式ドキュメント：\n",
    "https://docs.python.jp/3/library/collections.html#collections.defaultdict"
   ]
  },
  {
   "cell_type": "code",
   "execution_count": 55,
   "metadata": {},
   "outputs": [
    {
     "ename": "KeyError",
     "evalue": "3",
     "output_type": "error",
     "traceback": [
      "\u001b[0;31m---------------------------------------------------------------------------\u001b[0m",
      "\u001b[0;31mKeyError\u001b[0m                                  Traceback (most recent call last)",
      "\u001b[0;32m<ipython-input-55-198267351810>\u001b[0m in \u001b[0;36m<module>\u001b[0;34m()\u001b[0m\n\u001b[1;32m      1\u001b[0m \u001b[0msomedict\u001b[0m \u001b[0;34m=\u001b[0m \u001b[0;34m{\u001b[0m\u001b[0;34m}\u001b[0m\u001b[0;34m\u001b[0m\u001b[0m\n\u001b[0;32m----> 2\u001b[0;31m \u001b[0mprint\u001b[0m\u001b[0;34m(\u001b[0m\u001b[0msomedict\u001b[0m\u001b[0;34m[\u001b[0m\u001b[0;36m3\u001b[0m\u001b[0;34m]\u001b[0m\u001b[0;34m)\u001b[0m \u001b[0;31m# KeyError\u001b[0m\u001b[0;34m\u001b[0m\u001b[0m\n\u001b[0m",
      "\u001b[0;31mKeyError\u001b[0m: 3"
     ]
    }
   ],
   "source": [
    "somedict = {}\n",
    "print(somedict[3]) # KeyError"
   ]
  },
  {
   "cell_type": "code",
   "execution_count": 56,
   "metadata": {},
   "outputs": [
    {
     "name": "stdout",
     "output_type": "stream",
     "text": [
      "0\n"
     ]
    }
   ],
   "source": [
    "from collections import defaultdict\n",
    "\n",
    "someddict = defaultdict(int)\n",
    "print(someddict[3]) # print int(), thus 0"
   ]
  },
  {
   "cell_type": "markdown",
   "metadata": {},
   "source": [
    "# <<< OK, We can start to check the example of Item 23 >>>"
   ]
  },
  {
   "cell_type": "markdown",
   "metadata": {},
   "source": [
    "###    \n",
    "# 項目２３：単純なインタフェースではクラスの代わりに関数を受けよう\n"
   ]
  },
  {
   "cell_type": "markdown",
   "metadata": {},
   "source": [
    "## 他の言語だとフック(Hook)を実現するには抽象クラスを定義する必要があるけど、\n",
    "## Pythonなら函数を定義すればよい"
   ]
  },
  {
   "cell_type": "markdown",
   "metadata": {},
   "source": [
    "### 1. Demo: 先のDefaultdictをカスタマイズしたいなら"
   ]
  },
  {
   "cell_type": "code",
   "execution_count": 57,
   "metadata": {},
   "outputs": [],
   "source": [
    "def log_missing():\n",
    "    print('Key defautly added')\n",
    "    return 0"
   ]
  },
  {
   "cell_type": "code",
   "execution_count": 58,
   "metadata": {},
   "outputs": [
    {
     "name": "stdout",
     "output_type": "stream",
     "text": [
      "Before {'green': 12, 'blue': 3}\n"
     ]
    }
   ],
   "source": [
    "current = {'green':12, 'blue':3}\n",
    "to_be_added = [\n",
    "    ('red',5),\n",
    "    ('blue',20),\n",
    "    ('orange',9)\n",
    "]\n",
    "\n",
    "result = defaultdict(log_missing,current)\n",
    "print('Before',dict(result))"
   ]
  },
  {
   "cell_type": "code",
   "execution_count": 59,
   "metadata": {},
   "outputs": [
    {
     "name": "stdout",
     "output_type": "stream",
     "text": [
      "Key defautly added\n",
      "Key defautly added\n",
      "After {'green': 12, 'blue': 23, 'red': 5, 'orange': 9}\n"
     ]
    }
   ],
   "source": [
    "for key, amount in to_be_added:\n",
    "    result[key] += amount\n",
    "\n",
    "print('After',dict(result))"
   ]
  },
  {
   "cell_type": "markdown",
   "metadata": {},
   "source": [
    "### 2. Demo: Keysがないの数量（count the total number of keys that were missing）"
   ]
  },
  {
   "cell_type": "markdown",
   "metadata": {},
   "source": [
    "#### Make a brief review of Closure(Item 15)\n",
    "#### クロージャ：関数内関数をクロージャとして機能させ、動的に関数を生成することも可能。    "
   ]
  },
  {
   "cell_type": "code",
   "execution_count": 60,
   "metadata": {},
   "outputs": [],
   "source": [
    "def todays_weather(arg1):\n",
    "    def return_weather():\n",
    "        return 'It’s ' +  arg1 + ' today.'\n",
    "    return return_weather"
   ]
  },
  {
   "cell_type": "code",
   "execution_count": 62,
   "metadata": {},
   "outputs": [],
   "source": [
    "day1 = todays_weather('sunny')\n",
    "day2 = todays_weather('cloudy')"
   ]
  },
  {
   "cell_type": "code",
   "execution_count": 63,
   "metadata": {},
   "outputs": [
    {
     "data": {
      "text/plain": [
       "'It’s sunny today.'"
      ]
     },
     "execution_count": 63,
     "metadata": {},
     "output_type": "execute_result"
    }
   ],
   "source": [
    "day1()"
   ]
  },
  {
   "cell_type": "code",
   "execution_count": 64,
   "metadata": {},
   "outputs": [
    {
     "data": {
      "text/plain": [
       "'It’s cloudy today.'"
      ]
     },
     "execution_count": 64,
     "metadata": {},
     "output_type": "execute_result"
    }
   ],
   "source": [
    "day2()"
   ]
  },
  {
   "cell_type": "code",
   "execution_count": 65,
   "metadata": {},
   "outputs": [],
   "source": [
    "# Define a helper function that uses such a closure as the default value hook"
   ]
  },
  {
   "cell_type": "code",
   "execution_count": 61,
   "metadata": {},
   "outputs": [],
   "source": [
    "def added_with_report(current, to_be_added):\n",
    "    added_count = 0\n",
    "    \n",
    "    def missing():\n",
    "        nonlocal added_count # Stateful Closure\n",
    "        added_count += 1\n",
    "        return 0\n",
    "    result = defaultdict(missing, current)\n",
    "    for key, amount in to_be_added:\n",
    "        result[key] += amount\n",
    "    \n",
    "    return result, added_count"
   ]
  },
  {
   "cell_type": "code",
   "execution_count": 66,
   "metadata": {},
   "outputs": [],
   "source": [
    "current = {'green':12, 'blue':3}\n",
    "to_be_added = [\n",
    "    ('red',5),\n",
    "    ('blue',20),\n",
    "    ('orange',9)\n",
    "]\n",
    "\n",
    "result, count = added_with_report(current,to_be_added)"
   ]
  },
  {
   "cell_type": "code",
   "execution_count": 67,
   "metadata": {},
   "outputs": [
    {
     "name": "stdout",
     "output_type": "stream",
     "text": [
      "After {'green': 12, 'blue': 23, 'red': 5, 'orange': 9}\n"
     ]
    }
   ],
   "source": [
    "print('After',dict(result))"
   ]
  },
  {
   "cell_type": "code",
   "execution_count": 68,
   "metadata": {},
   "outputs": [
    {
     "name": "stdout",
     "output_type": "stream",
     "text": [
      "Keys to be add count: 2\n"
     ]
    }
   ],
   "source": [
    "print('Keys to be add count:',count)"
   ]
  },
  {
   "cell_type": "markdown",
   "metadata": {},
   "source": [
    "### 但し、クロージャ(Closure)を使えば、ステートフル(stateful)な函数も定義できて\n",
    "### フックとして使えるけれども、読みづらくなる"
   ]
  },
  {
   "cell_type": "markdown",
   "metadata": {},
   "source": [
    "#### 3. Demo: Keysがないの数量（count the total number of keys that were missing）"
   ]
  },
  {
   "cell_type": "code",
   "execution_count": 69,
   "metadata": {},
   "outputs": [],
   "source": [
    "class CountMissing(object):\n",
    "    def __init__(self):\n",
    "        self.added = 0\n",
    "    def missing(self):\n",
    "        self.added += 1\n",
    "        return 0"
   ]
  },
  {
   "cell_type": "code",
   "execution_count": 70,
   "metadata": {},
   "outputs": [],
   "source": [
    "counter = CountMissing()\n",
    "result = defaultdict(counter.missing, current)"
   ]
  },
  {
   "cell_type": "code",
   "execution_count": 71,
   "metadata": {},
   "outputs": [],
   "source": [
    "current = {'green':12, 'blue':3}\n",
    "to_be_added = [\n",
    "    ('red',5),\n",
    "    ('blue',20),\n",
    "    ('orange',9)\n",
    "]\n",
    "\n",
    "for key,amount in to_be_added:\n",
    "    result[key] += amount"
   ]
  },
  {
   "cell_type": "code",
   "execution_count": 72,
   "metadata": {},
   "outputs": [
    {
     "name": "stdout",
     "output_type": "stream",
     "text": [
      "Keys to be add count: 2\n"
     ]
    }
   ],
   "source": [
    "print('Keys to be add count:',counter.added)"
   ]
  },
  {
   "cell_type": "markdown",
   "metadata": {},
   "source": [
    "### 但し、「CountMissingのClassはなんのために作った？」、「誰がmissing methodを呼びますか」、\n",
    "### いろんな問題を抱えていまて、下のDefaultdictを使わないと、分かりづらくなる"
   ]
  },
  {
   "cell_type": "code",
   "execution_count": 75,
   "metadata": {},
   "outputs": [],
   "source": [
    "class BetterCountMissing(object):\n",
    "    def __init__(self):\n",
    "        self.added = 0\n",
    "    def __call__(self):\n",
    "        self.added += 1\n",
    "        return 0"
   ]
  },
  {
   "cell_type": "code",
   "execution_count": 83,
   "metadata": {},
   "outputs": [],
   "source": [
    "current = {'green':12, 'blue':3}\n",
    "to_be_added = [\n",
    "    ('red',5),\n",
    "    ('blue',20),\n",
    "    ('orange',9)\n",
    "]\n",
    "\n",
    "\n",
    "counter = BetterCountMissing()\n",
    "result = defaultdict(counter, current)\n",
    "for key, amount in to_be_added:\n",
    "    result[key] += amount"
   ]
  },
  {
   "cell_type": "code",
   "execution_count": 84,
   "metadata": {},
   "outputs": [
    {
     "name": "stdout",
     "output_type": "stream",
     "text": [
      "Keys to be add count: 2\n"
     ]
    }
   ],
   "source": [
    "print('Keys to be add count:',counter.added)"
   ]
  },
  {
   "cell_type": "markdown",
   "metadata": {},
   "source": [
    "###  _ _call_ _ \n",
    "\n",
    "### インスタンス生成では__init__しか呼び出されない。しかし、一度生成されたインスタンスを関数っぽく引数を与えて呼び出せば、__call__が呼び出されるという仕組み"
   ]
  },
  {
   "cell_type": "markdown",
   "metadata": {},
   "source": [
    "###    \n",
    "# まとめ"
   ]
  },
  {
   "cell_type": "markdown",
   "metadata": {},
   "source": [
    "### 1. Instead of defining and instantiating classes, functions are often all you need for simple interfaces between components in Python.\n",
    "(単純なインタフェースではクラスの代わりに関数を受けよう)\n",
    "\n",
    "### 2. References to functions and methods in Python are first class, meaning they can be used in expressions like any other type.\n",
    "（Pythonでパラメータ値として別の関数に渡すできる）\n",
    "\n",
    "### 3. The __call__ special method enables instances of a class to be called like plain Python functions.\n",
    "(クラスが__call__あったら、関数っぽく呼び出しことができる）\n",
    "\n",
    "### 4. When you need a function to maintain state, consider defining a class that provides the __call__ method instead of defining a stateful closure (see Item 15: “Know How Closures Interact with Variable Scope”).\n",
    "(状態を保守するために関数が必要な場合、状態を持つクロージャを定義する代わりに、__call__ メソッドを提供するクラスを定義することを考える。)"
   ]
  }
 ],
 "metadata": {
  "kernelspec": {
   "display_name": "Python 3",
   "language": "python",
   "name": "python3"
  },
  "language_info": {
   "codemirror_mode": {
    "name": "ipython",
    "version": 3
   },
   "file_extension": ".py",
   "mimetype": "text/x-python",
   "name": "python",
   "nbconvert_exporter": "python",
   "pygments_lexer": "ipython3",
   "version": "3.6.0"
  }
 },
 "nbformat": 4,
 "nbformat_minor": 2
}
